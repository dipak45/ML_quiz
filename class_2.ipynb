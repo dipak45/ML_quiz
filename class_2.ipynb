{
 "cells": [
  {
   "cell_type": "code",
   "execution_count": null,
   "metadata": {},
   "outputs": [],
   "source": [
    "A= 4 3\n",
    "   6 9\n",
    "    \n",
    "B= -2 9\n",
    "   -5 2\n",
    "    \n",
    "A-B= 6 -6\n",
    "     11 7\n",
    "    "
   ]
  },
  {
   "cell_type": "code",
   "execution_count": null,
   "metadata": {},
   "outputs": [],
   "source": [
    "x=2\n",
    "  7\n",
    "  4\n",
    "  1\n",
    "    \n",
    "ans:\n",
    "    1/2*x=1\n",
    "          3.5\n",
    "          2\n",
    "          0.5"
   ]
  },
  {
   "cell_type": "code",
   "execution_count": null,
   "metadata": {},
   "outputs": [],
   "source": [
    "x= 8\n",
    "   1\n",
    "   4\n",
    "\n",
    "ans:\n",
    "xt= 8 1 4    "
   ]
  },
  {
   "cell_type": "code",
   "execution_count": null,
   "metadata": {},
   "outputs": [],
   "source": [
    "u= 1\n",
    "   3\n",
    "  -1\n",
    "\n",
    "v= 2\n",
    "   2\n",
    "   4\n",
    "\n",
    "ans:\n",
    "    utv= 4"
   ]
  },
  {
   "cell_type": "code",
   "execution_count": null,
   "metadata": {},
   "outputs": [],
   "source": [
    "Let A and B be 3X3 (square) matrices. Which of the following must necessarily hold true?\n",
    "\n",
    "a. A*B = B*A\n",
    "\n",
    "b. If B is a 3X3 identity matrix, then A*B = B*A\n",
    "\n",
    "c. (A*B)*A = A*(B*A)\n",
    "\n",
    "d. If C = A*B, then C is a 6*\\6 matrix.\n",
    "\n",
    "\n",
    "ans:\n",
    "    c"
   ]
  }
 ],
 "metadata": {
  "kernelspec": {
   "display_name": "Python 2",
   "language": "python",
   "name": "python2"
  },
  "language_info": {
   "codemirror_mode": {
    "name": "ipython",
    "version": 2
   },
   "file_extension": ".py",
   "mimetype": "text/x-python",
   "name": "python",
   "nbconvert_exporter": "python",
   "pygments_lexer": "ipython2",
   "version": "2.7.14"
  }
 },
 "nbformat": 4,
 "nbformat_minor": 2
}
